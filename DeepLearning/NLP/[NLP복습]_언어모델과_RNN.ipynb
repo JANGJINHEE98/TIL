{
  "nbformat": 4,
  "nbformat_minor": 0,
  "metadata": {
    "colab": {
      "name": "[NLP복습] 언어모델과 RNN.ipynb",
      "provenance": [],
      "authorship_tag": "ABX9TyPHz5X5yPWV6rRnuuVJlCm2",
      "include_colab_link": true
    },
    "kernelspec": {
      "name": "python3",
      "display_name": "Python 3"
    },
    "language_info": {
      "name": "python"
    }
  },
  "cells": [
    {
      "cell_type": "markdown",
      "metadata": {
        "id": "view-in-github",
        "colab_type": "text"
      },
      "source": [
        "<a href=\"https://colab.research.google.com/github/zzhenxi/TIL/blob/main/%5BNLP%EB%B3%B5%EC%8A%B5%5D_%EC%96%B8%EC%96%B4%EB%AA%A8%EB%8D%B8%EA%B3%BC_RNN.ipynb\" target=\"_parent\"><img src=\"https://colab.research.google.com/assets/colab-badge.svg\" alt=\"Open In Colab\"/></a>"
      ]
    },
    {
      "cell_type": "markdown",
      "source": [
        "전통적인 언어모델    \n",
        "통계적 언어모델 :   \n",
        "통계적 언어모델은 횟수 기반으로 확률을 계산하기 때문에 희소성 문제를 가짐    \n",
        "1 times, 2 times는 있지만, 만약 말뭉치에 7 times가 없다면 7 times가 들어가는 문장을 만들 수 있을까? 만들 수 X! -> **희소성 문제**    \n"
      ],
      "metadata": {
        "id": "_arEqVSCEBBn"
      }
    },
    {
      "cell_type": "markdown",
      "source": [
        "희소성 문제를 해결하기 위해    \n",
        "1. n-gram \n",
        "2. back-off : n-gram의 n에 대해 n보다 작은 숫자를 적용해주는 방식    \n",
        "예를 들어 I love twosomeplace cakes 라는 문장이 말뭉치에 나오지 않았다면, n을 단어수인 4이하로 설정해준다.\n",
        "3. smoothing : 말뭉치에 등장하지 않는 단어에 대해 0대신 다른 값을 넣어줘서 등장 확률을 높여줌, 반대로 너무 많이 등장하는 단어에 대해서는 확률값을 좀 낮춰준다. "
      ],
      "metadata": {
        "id": "lqqxcBKFEyqR"
      }
    },
    {
      "cell_type": "markdown",
      "source": [
        "RNN 구현"
      ],
      "metadata": {
        "id": "kDsYt1q7Km-A"
      }
    },
    {
      "cell_type": "code",
      "source": [
        "# 배웠던 RNN을 간단한 코드로 살펴보면 다음과 같습니다. \n",
        "import numpy as np\n",
        "\n",
        "class RNN:\n",
        "  def __init__(self, Wx, Wh, b):\n",
        "    self.params = [Wx, Wh, b]\n",
        "    # 필요한 가중치를 초기화하여 줍니다.\n",
        "    self.grads = [np.zeros_like(Wx), np.zeros_like(Wh), np.zeros_like(b)]\n",
        "    self.cache = None\n",
        "\n",
        "  def forward(self, x, h_prev):\n",
        "    Wx, Wh, b = self.params\n",
        "    t = np.matmul(h_prev, Wh) + np.matmul(x, Wx) + b # 이 부분을 위의 그림과 연관지어 생각해보세요!\n",
        "    h_next = np.tanh(t)\n",
        "\n",
        "    self.cache = (x, h_prev, h_next)\n",
        "    return h_next"
      ],
      "metadata": {
        "id": "DqWiqO0wEyKY"
      },
      "execution_count": 1,
      "outputs": []
    },
    {
      "cell_type": "markdown",
      "source": [
        "LSTM을 이용한 텍스트 감성 분류 "
      ],
      "metadata": {
        "id": "bu6Vq2usaO6Q"
      }
    },
    {
      "cell_type": "code",
      "source": [
        "from __future__ import print_function\n",
        "\n",
        "from tensorflow.keras.preprocessing import sequence\n",
        "from tensorflow.keras.models import Sequential\n",
        "from tensorflow.keras.layers import Dense, Embedding\n",
        "from tensorflow.keras.layers import LSTM\n",
        "from tensorflow.keras.datasets import imdb\n",
        "\n",
        "# 파라미터를 설정합니다.\n",
        "max_features = 20000 \n",
        "maxlen = 80 # 한 문장 길이\n",
        "batch_size = 32\n",
        "\n",
        "# 데이터를 불러옵니다.\n",
        "print('Loading data...')\n",
        "(x_train, y_train), (x_test, y_test) = imdb.load_data(num_words=max_features)\n",
        "print(len(x_train), 'train sequences')\n",
        "print(len(x_test), 'test sequences')"
      ],
      "metadata": {
        "colab": {
          "base_uri": "https://localhost:8080/"
        },
        "id": "ZGQxtG7xaVtm",
        "outputId": "a9415852-5e30-4d9b-d69c-f0b6002f9ea0"
      },
      "execution_count": 2,
      "outputs": [
        {
          "output_type": "stream",
          "name": "stdout",
          "text": [
            "Loading data...\n",
            "Downloading data from https://storage.googleapis.com/tensorflow/tf-keras-datasets/imdb.npz\n",
            "17465344/17464789 [==============================] - 0s 0us/step\n",
            "17473536/17464789 [==============================] - 0s 0us/step\n",
            "25000 train sequences\n",
            "25000 test sequences\n"
          ]
        }
      ]
    },
    {
      "cell_type": "code",
      "source": [
        "# Sequence를 Padding 하여줍니다.\n",
        "print('Pad Sequences (samples x maxlen)')\n",
        "x_train = sequence.pad_sequences(x_train, maxlen=maxlen)\n",
        "x_test = sequence.pad_sequences(x_test, maxlen=maxlen)\n",
        "print('x_train shape: ', x_train.shape)\n",
        "print('x_test shape: ', x_test.shape)"
      ],
      "metadata": {
        "colab": {
          "base_uri": "https://localhost:8080/"
        },
        "id": "Kl5vuzAEaayY",
        "outputId": "8301c995-79ca-4b19-efba-631d2422066b"
      },
      "execution_count": 3,
      "outputs": [
        {
          "output_type": "stream",
          "name": "stdout",
          "text": [
            "Pad Sequences (samples x maxlen)\n",
            "x_train shape:  (25000, 80)\n",
            "x_test shape:  (25000, 80)\n"
          ]
        }
      ]
    },
    {
      "cell_type": "code",
      "source": [
        "x_train[0]"
      ],
      "metadata": {
        "colab": {
          "base_uri": "https://localhost:8080/"
        },
        "id": "Ccrt7BdkxdO_",
        "outputId": "b7041a48-8842-424b-e33b-f9e77f78af25"
      },
      "execution_count": 4,
      "outputs": [
        {
          "output_type": "execute_result",
          "data": {
            "text/plain": [
              "array([   15,   256,     4,     2,     7,  3766,     5,   723,    36,\n",
              "          71,    43,   530,   476,    26,   400,   317,    46,     7,\n",
              "           4, 12118,  1029,    13,   104,    88,     4,   381,    15,\n",
              "         297,    98,    32,  2071,    56,    26,   141,     6,   194,\n",
              "        7486,    18,     4,   226,    22,    21,   134,   476,    26,\n",
              "         480,     5,   144,    30,  5535,    18,    51,    36,    28,\n",
              "         224,    92,    25,   104,     4,   226,    65,    16,    38,\n",
              "        1334,    88,    12,    16,   283,     5,    16,  4472,   113,\n",
              "         103,    32,    15,    16,  5345,    19,   178,    32],\n",
              "      dtype=int32)"
            ]
          },
          "metadata": {},
          "execution_count": 4
        }
      ]
    },
    {
      "cell_type": "code",
      "source": [
        "import tensorflow as tf\n",
        "\n",
        "# model을 정의합니다.\n",
        "\"\"\"\n",
        "keras의 기본 Embedding 벡터를 사용하였으며\n",
        "LSTM 층에 dropout/recurrent_dropout을 적용하였습니다.\n",
        "\"\"\"\n",
        "model = tf.keras.models.Sequential([\n",
        "  tf.keras.layers.Embedding(max_features, 128), # Embedding Layer를 거친 후의 shape : (batch_size, maxlen, embedding_size=128) # 그냥 drop out : input에 대해 / recurrent drop out : 순환하고 있는 state에 대해 drop out\n",
        "  tf.keras.layers.LSTM(128, dropout=0.2, recurrent_dropout=0.2), # LSTM Layer를 거친 후의 shape : (batch_size, time_steps = 1, hidden_size(hidden_state의 차원?)=128) \n",
        "  # https://kimmisol.com/lstm-understanding-input-and-output-shapes-lstm-%EC%9E%85%EC%B6%9C%EB%A0%A5-shapes/ 참고 \n",
        "  tf.keras.layers.Dense(1, activation='sigmoid')\n",
        "])\n",
        "\n",
        "model.compile(loss='binary_crossentropy',\n",
        "              optimizer='adam', \n",
        "              metrics=['accuracy'])\n",
        "\n",
        "model.summary()"
      ],
      "metadata": {
        "colab": {
          "base_uri": "https://localhost:8080/"
        },
        "id": "9-ZW3IMdxhKY",
        "outputId": "8252127d-9810-40b1-c97d-385008b61af1"
      },
      "execution_count": 9,
      "outputs": [
        {
          "output_type": "stream",
          "name": "stdout",
          "text": [
            "Model: \"sequential_3\"\n",
            "_________________________________________________________________\n",
            " Layer (type)                Output Shape              Param #   \n",
            "=================================================================\n",
            " embedding_3 (Embedding)     (None, None, 128)         2560000   \n",
            "                                                                 \n",
            " lstm_3 (LSTM)               (None, 128)               131584    \n",
            "                                                                 \n",
            " dense_3 (Dense)             (None, 1)                 129       \n",
            "                                                                 \n",
            "=================================================================\n",
            "Total params: 2,691,713\n",
            "Trainable params: 2,691,713\n",
            "Non-trainable params: 0\n",
            "_________________________________________________________________\n"
          ]
        }
      ]
    },
    {
      "cell_type": "markdown",
      "source": [
        "lstm_1에서 output이 2D인 이유?    \n",
        "return_sequence 가 false이기 때문에 (기본이 false임)\n",
        "\n",
        "lstm의 입력은 항상 3D배열이고, 출력은 3D일수도, 2D일수도 있다. \n",
        "\n",
        "return_sequence가 False이면 출력은 2D 배열입니다. (batch_size, units)   \n",
        "return_sequence가 True이면 출력은 3D 배열입니다. (batch_size, time_steps, units)\n",
        "\n"
      ],
      "metadata": {
        "id": "0Rtol7pQ6ILH"
      }
    },
    {
      "cell_type": "markdown",
      "source": [
        "![image.png](data:image/png;base64,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)"
      ],
      "metadata": {
        "id": "79KXgQFZyea1"
      }
    },
    {
      "cell_type": "code",
      "source": [
        "unicorns = model.fit(x_train, y_train,\n",
        "          batch_size=batch_size, \n",
        "          epochs=3, \n",
        "          validation_data=(x_test,y_test))"
      ],
      "metadata": {
        "colab": {
          "base_uri": "https://localhost:8080/"
        },
        "id": "dpLk4QcXGGzs",
        "outputId": "a7eb5d4d-15f7-44d8-9da5-cae754e28a98"
      },
      "execution_count": 6,
      "outputs": [
        {
          "output_type": "stream",
          "name": "stdout",
          "text": [
            "Epoch 1/3\n",
            "782/782 [==============================] - 251s 309ms/step - loss: 0.4288 - accuracy: 0.7985 - val_loss: 0.3614 - val_accuracy: 0.8408\n",
            "Epoch 2/3\n",
            "782/782 [==============================] - 240s 307ms/step - loss: 0.2544 - accuracy: 0.8974 - val_loss: 0.3858 - val_accuracy: 0.8375\n",
            "Epoch 3/3\n",
            "782/782 [==============================] - 240s 307ms/step - loss: 0.1598 - accuracy: 0.9408 - val_loss: 0.4408 - val_accuracy: 0.8304\n"
          ]
        }
      ]
    },
    {
      "cell_type": "markdown",
      "source": [
        "여기서 잠깐!    \n",
        "lstm으로 감정분류를 한 것, 그리고 cnn으로 감정분류를 한 것중에 속도가 높은 것은 무엇일까?   \n",
        "lstm은 순환신경망을 근간으로 하는 모델이다. 따라서 병렬처리가 되지 않아 학습 속도가 느릴 수 밖에 없고, (한번 학습하는데 왔다,,,갔다,,, 하려면 시간이 매우 오래걸림..)   \n",
        "cnn으로, 그러니깐 MLP(다층 퍼셉트론)으로 학습을 하면 병렬처리가 가능하기 때문에 lstm보다 학습 속도가 빠를 것이다. \n"
      ],
      "metadata": {
        "id": "ePG_evACVpXE"
      }
    },
    {
      "cell_type": "code",
      "source": [
        "import matplotlib.pyplot as plt\n",
        "\n",
        "# Plot training & validation loss values\n",
        "plt.plot(unicorns.history['loss'])\n",
        "plt.plot(unicorns.history['val_loss'])\n",
        "plt.title('Model loss')\n",
        "plt.ylabel('Loss')\n",
        "plt.xlabel('Epoch')\n",
        "plt.legend(['Train', 'Test'], loc='upper left')\n",
        "plt.show();\n"
      ],
      "metadata": {
        "colab": {
          "base_uri": "https://localhost:8080/",
          "height": 295
        },
        "id": "ylr9FBPtPzNj",
        "outputId": "4cccec7a-b8a5-4438-f170-6ba49550bbf5"
      },
      "execution_count": 10,
      "outputs": [
        {
          "output_type": "display_data",
          "data": {
            "image/png": "[encoded data removed]",
            "text/plain": [
              "<Figure size 432x288 with 1 Axes>"
            ]
          },
          "metadata": {
            "needs_background": "light"
          }
        }
      ]
    },
    {
      "cell_type": "markdown",
      "source": [
        "train이 과적합되지 않고, test loss가 확 늘어나지 않는 그 시점이 바로 적절한 하이퍼 파라미터값이 된다."
      ],
      "metadata": {
        "id": "bABqSYXRYQB0"
      }
    },
    {
      "cell_type": "markdown",
      "source": [
        "Attention"
      ],
      "metadata": {
        "id": "fHTpstfaZELN"
      }
    },
    {
      "cell_type": "code",
      "source": [
        "import tensorflow as tf\n",
        "\n",
        "import matplotlib.pyplot as plt\n",
        "import matplotlib.ticker as ticker\n",
        "from sklearn.model_selection import train_test_split\n",
        "\n",
        "import unicodedata\n",
        "import re\n",
        "import numpy as np\n",
        "import os\n",
        "import io\n",
        "import time"
      ],
      "metadata": {
        "id": "Mr74XQcLZDzk"
      },
      "execution_count": 1,
      "outputs": []
    },
    {
      "cell_type": "code",
      "source": [
        "# 데이터셋을 다운로드합니다.\n",
        "path_to_zip = tf.keras.utils.get_file(\n",
        "    'spa-eng.zip', origin='http://storage.googleapis.com/download.tensorflow.org/data/spa-eng.zip',\n",
        "    extract=True)\n",
        "\n",
        "path_to_file = os.path.dirname(path_to_zip)+\"/spa-eng/spa.txt\""
      ],
      "metadata": {
        "colab": {
          "base_uri": "https://localhost:8080/"
        },
        "id": "v6B4UNVLur7B",
        "outputId": "def1c3ae-caa9-42d1-bb59-9b4158c580cd"
      },
      "execution_count": 2,
      "outputs": [
        {
          "output_type": "stream",
          "name": "stdout",
          "text": [
            "Downloading data from http://storage.googleapis.com/download.tensorflow.org/data/spa-eng.zip\n",
            "2646016/2638744 [==============================] - 0s 0us/step\n",
            "2654208/2638744 [==============================] - 0s 0us/step\n"
          ]
        }
      ]
    },
    {
      "cell_type": "code",
      "source": [
        "# 유니코드 파일을 아스키코드로 변환하는 함수입니다.\n",
        "def unicode_to_ascii(s):\n",
        "  return ''.join(c for c in unicodedata.normalize('NFD', s)\n",
        "                 if unicodedata.category(c) != 'Mn')\n",
        "\n",
        "\n",
        "def preprocess_sentence(w):\n",
        "  w = unicode_to_ascii(w.lower().strip())\n",
        "\n",
        "  # creating a space between a word and the punctuation following it\n",
        "  # eg: \"he is a boy.\" => \"he is a boy .\"\n",
        "  # Reference:- https://stackoverflow.com/questions/3645931/python-padding-punctuation-with-white-spaces-keeping-punctuation\n",
        "  w = re.sub(r\"([?.!,¿])\", r\" \\1 \", w)\n",
        "  w = re.sub(r'[\" \"]+', \" \", w)\n",
        "\n",
        "  # replacing everything with space except (a-z, A-Z, \".\", \"?\", \"!\", \",\")\n",
        "  w = re.sub(r\"[^a-zA-Z?.!,¿]+\", \" \", w)\n",
        "\n",
        "  w = w.strip()\n",
        "\n",
        "  # adding a start and an end token to the sentence\n",
        "  # so that the model know when to start and stop predicting.\n",
        "  w = '<start> ' + w + ' <end>'\n",
        "  return w"
      ],
      "metadata": {
        "id": "8DbjJji5uyB6"
      },
      "execution_count": 3,
      "outputs": []
    },
    {
      "cell_type": "code",
      "source": [
        "en_sentence = u\"May I borrow this book?\"\n",
        "sp_sentence = u\"¿Puedo tomar prestado este libro?\"\n",
        "print(preprocess_sentence(en_sentence))\n",
        "print(preprocess_sentence(sp_sentence).encode('utf-8'))"
      ],
      "metadata": {
        "colab": {
          "base_uri": "https://localhost:8080/"
        },
        "id": "MnZk_EhfwWWx",
        "outputId": "b1a5332c-c4e5-4f73-92f4-a9e8446599e2"
      },
      "execution_count": 4,
      "outputs": [
        {
          "output_type": "stream",
          "name": "stdout",
          "text": [
            "<start> may i borrow this book ? <end>\n",
            "b'<start> \\xc2\\xbf puedo tomar prestado este libro ? <end>'\n"
          ]
        }
      ]
    },
    {
      "cell_type": "code",
      "source": [
        "# 1. Remove the accents\n",
        "# 2. Clean the sentences\n",
        "# 3. Return word pairs in the format: [ENGLISH, SPANISH]\n",
        "def create_dataset(path, num_examples):\n",
        "  lines = io.open(path, encoding='UTF-8').read().strip().split('\\n')\n",
        "\n",
        "  word_pairs = [[preprocess_sentence(w) for w in line.split('\\t')]\n",
        "                for line in lines[:num_examples]]\n",
        "\n",
        "  return zip(*word_pairs)"
      ],
      "metadata": {
        "id": "GNTQDqDfwoz9"
      },
      "execution_count": 5,
      "outputs": []
    },
    {
      "cell_type": "code",
      "source": [
        "en, sp = create_dataset(path_to_file, None)\n",
        "print(en[-1])\n",
        "print(sp[-1])"
      ],
      "metadata": {
        "colab": {
          "base_uri": "https://localhost:8080/"
        },
        "id": "_YELwxwGwsvF",
        "outputId": "533a0d10-b568-40e8-edb8-865ae00617fb"
      },
      "execution_count": 6,
      "outputs": [
        {
          "output_type": "stream",
          "name": "stdout",
          "text": [
            "<start> if you want to sound like a native speaker , you must be willing to practice saying the same sentence over and over in the same way that banjo players practice the same phrase over and over until they can play it correctly and at the desired tempo . <end>\n",
            "<start> si quieres sonar como un hablante nativo , debes estar dispuesto a practicar diciendo la misma frase una y otra vez de la misma manera en que un musico de banjo practica el mismo fraseo una y otra vez hasta que lo puedan tocar correctamente y en el tiempo esperado . <end>\n"
          ]
        }
      ]
    },
    {
      "cell_type": "code",
      "source": [
        "def tokenize(lang):\n",
        "  lang_tokenizer = tf.keras.preprocessing.text.Tokenizer(filters='')\n",
        "  lang_tokenizer.fit_on_texts(lang)\n",
        "\n",
        "  tensor = lang_tokenizer.texts_to_sequences(lang)\n",
        "\n",
        "  tensor = tf.keras.preprocessing.sequence.pad_sequences(tensor,\n",
        "                                                         padding='post')\n",
        "\n",
        "  return tensor, lang_tokenizer"
      ],
      "metadata": {
        "id": "WtpeGVL2wv5x"
      },
      "execution_count": 7,
      "outputs": []
    },
    {
      "cell_type": "code",
      "source": [
        "# 2개 언어이기 때문에, tokenizer가 각각의 언어별로 따로 필요합니다.\n",
        "def load_dataset(path, num_examples=None):\n",
        "  # creating cleaned input, output pairs\n",
        "  targ_lang, inp_lang = create_dataset(path, num_examples)\n",
        "\n",
        "  input_tensor, inp_lang_tokenizer = tokenize(inp_lang)\n",
        "  target_tensor, targ_lang_tokenizer = tokenize(targ_lang)\n",
        "\n",
        "  return input_tensor, target_tensor, inp_lang_tokenizer, targ_lang_tokenizer"
      ],
      "metadata": {
        "id": "ioMjQ5rjw0YD"
      },
      "execution_count": 8,
      "outputs": []
    },
    {
      "cell_type": "code",
      "source": [
        "# load할 dataset의 개수를 30000으로 설정\n",
        "num_examples = 30000\n",
        "input_tensor, target_tensor, inp_lang, targ_lang = load_dataset(path_to_file, num_examples)\n",
        "\n",
        "# target과 input의 최대 길이 구하기(문장 최대 길이)\n",
        "max_length_targ, max_length_inp = target_tensor.shape[1], input_tensor.shape[1]\n"
      ],
      "metadata": {
        "id": "WWo-1AnLw55d"
      },
      "execution_count": 9,
      "outputs": []
    },
    {
      "cell_type": "code",
      "source": [
        "# 8:2 비율로 train-test split 진행\n",
        "input_tensor_train, input_tensor_val, target_tensor_train, target_tensor_val = train_test_split(input_tensor, target_tensor, test_size=0.2)\n",
        "\n",
        "# 데이터 개수 뽑아보기\n",
        "print(len(input_tensor_train), len(target_tensor_train), len(input_tensor_val), len(target_tensor_val))"
      ],
      "metadata": {
        "colab": {
          "base_uri": "https://localhost:8080/"
        },
        "id": "lFFFm18uw9z6",
        "outputId": "23f64666-00af-423c-b6e8-71b8c6c3f56a"
      },
      "execution_count": 10,
      "outputs": [
        {
          "output_type": "stream",
          "name": "stdout",
          "text": [
            "24000 24000 6000 6000\n"
          ]
        }
      ]
    },
    {
      "cell_type": "code",
      "source": [
        "BUFFER_SIZE = len(input_tensor_train)\n",
        "BATCH_SIZE = 64\n",
        "steps_per_epoch = len(input_tensor_train)//BATCH_SIZE\n",
        "embedding_dim = 256\n",
        "units = 1024\n",
        "vocab_inp_size = len(inp_lang.word_index)+1\n",
        "vocab_tar_size = len(targ_lang.word_index)+1\n",
        "\n",
        "# tf.data.Dataset -> 텐서플로우에서 제공하는 Dataset 클래스입니다.\n",
        "# Dataset 클래스는 배치 구성, 데이터셋 셔플, 윈도우 구현, 변환 함수 적용 등 다양한 기능을 제공합니다.\n",
        "dataset = tf.data.Dataset.from_tensor_slices((input_tensor_train, target_tensor_train)).shuffle(BUFFER_SIZE)\n",
        "dataset = dataset.batch(BATCH_SIZE, drop_remainder=True)"
      ],
      "metadata": {
        "id": "oP-GN18fw_cR"
      },
      "execution_count": 11,
      "outputs": []
    },
    {
      "cell_type": "code",
      "source": [
        "# 첫 번째 배치 뽑아보기\n",
        "# input_batch의 경우, 총 64개 데이터로 이루어져 있고, 1개 문장이 16개 단어로 이루어져 있습니다.\n",
        "example_input_batch, example_target_batch = next(iter(dataset))\n",
        "example_input_batch.shape, example_target_batch.shape"
      ],
      "metadata": {
        "colab": {
          "base_uri": "https://localhost:8080/"
        },
        "id": "MLJv617LxIH-",
        "outputId": "2d13eb25-397e-4178-efa2-3a702dd7df69"
      },
      "execution_count": 12,
      "outputs": [
        {
          "output_type": "execute_result",
          "data": {
            "text/plain": [
              "(TensorShape([64, 16]), TensorShape([64, 11]))"
            ]
          },
          "metadata": {},
          "execution_count": 12
        }
      ]
    },
    {
      "cell_type": "code",
      "source": [
        "class Encoder(tf.keras.Model):\n",
        "  def __init__(self, vocab_size, embedding_dim, enc_units, batch_sz):\n",
        "    super(Encoder, self).__init__()\n",
        "    self.batch_sz = batch_sz\n",
        "    self.enc_units = enc_units\n",
        "    self.embedding = tf.keras.layers.Embedding(vocab_size, embedding_dim)\n",
        "    self.gru = tf.keras.layers.GRU(self.enc_units,\n",
        "                                   return_sequences=True,\n",
        "                                   return_state=True,\n",
        "                                   recurrent_initializer='glorot_uniform')\n",
        "\n",
        "  def call(self, x, hidden):\n",
        "    # |x| = (batch_sz, seq_len)\n",
        "    x = self.embedding(x) # |x| = (batch_sz, seq_len, embedding_dim)\n",
        "    output, state = self.gru(x, initial_state=hidden)\n",
        "    return output, state\n",
        "\n",
        "  def initialize_hidden_state(self):\n",
        "    return tf.zeros((self.batch_sz, self.enc_units))"
      ],
      "metadata": {
        "id": "DaREtShHxLU5"
      },
      "execution_count": 13,
      "outputs": []
    },
    {
      "cell_type": "code",
      "source": [
        "# sample input을 통해 Encoder 레이어 결과값의 shape을 확인해보겠습니다\n",
        "encoder = Encoder(vocab_inp_size, embedding_dim, units, BATCH_SIZE)\n",
        "\n",
        "# sample input\n",
        "sample_hidden = encoder.initialize_hidden_state()\n",
        "sample_output, sample_hidden = encoder(example_input_batch, sample_hidden)\n",
        "print('Encoder output shape: (batch size, sequence length, units)', sample_output.shape)\n",
        "print('Encoder Hidden state shape: (batch size, units)', sample_hidden.shape)"
      ],
      "metadata": {
        "colab": {
          "base_uri": "https://localhost:8080/"
        },
        "id": "VJSsRM86xUxV",
        "outputId": "e941e5c4-51af-4bbe-aee9-163fc24d2773"
      },
      "execution_count": 14,
      "outputs": [
        {
          "output_type": "stream",
          "name": "stdout",
          "text": [
            "Encoder output shape: (batch size, sequence length, units) (64, 16, 1024)\n",
            "Encoder Hidden state shape: (batch size, units) (64, 1024)\n"
          ]
        }
      ]
    },
    {
      "cell_type": "code",
      "source": [
        "class BahdanauAttention(tf.keras.layers.Layer):\n",
        "  def __init__(self, units):\n",
        "    super(BahdanauAttention, self).__init__()\n",
        "    self.W1 = tf.keras.layers.Dense(units)\n",
        "    self.W2 = tf.keras.layers.Dense(units)\n",
        "    self.V = tf.keras.layers.Dense(1)\n",
        "\n",
        "  def call(self, query, values):\n",
        "    # query hidden state shape == (batch_size, hidden size)\n",
        "    # query_with_time_axis shape == (batch_size, 1, hidden size)\n",
        "    # values shape == (batch_size, max_len, hidden size)\n",
        "    # we are doing this to broadcast addition along the time axis to calculate the score\n",
        "    query_with_time_axis = tf.expand_dims(query, 1)\n",
        "\n",
        "    # score shape == (batch_size, max_length, 1)\n",
        "    # we get 1 at the last axis because we are applying score to self.V\n",
        "    # the shape of the tensor before applying self.V is (batch_size, max_length, units)\n",
        "    score = self.V(tf.nn.tanh(\n",
        "        self.W1(query_with_time_axis) + self.W2(values)))\n",
        "    # W1(query_with_time_axis) == (batch_size, 1, units)\n",
        "    # W2(values) == (batch_size, max_len, units)\n",
        "    # W1(query_with_time_axis) + W2(values) == (batch_size, max_len, units)\n",
        "    # V(tf.nn.tanh(W1(query_with_time_axis) + W2(values))) == (batch_size, max_len, 1)\n",
        "\n",
        "    attention_weights = tf.nn.softmax(score, axis=1) # attention_weights == (batch_size, max_length, 1)\n",
        "\n",
        "    context_vector = attention_weights * values # context_vector == (batch_size, max_len, hidden_size)\n",
        "    context_vector = tf.reduce_sum(context_vector, axis=1) # context_vector == (batch_size, hidden_size)\n",
        "\n",
        "    return context_vector, attention_weights"
      ],
      "metadata": {
        "id": "Y1yaRnWOxWtV"
      },
      "execution_count": 15,
      "outputs": []
    },
    {
      "cell_type": "code",
      "source": [
        "attention_layer = BahdanauAttention(10)\n",
        "attention_result, attention_weights = attention_layer(sample_hidden, sample_output)\n",
        "\n",
        "print(\"Attention result shape: (batch size, units)\", attention_result.shape)\n",
        "print(\"Attention weights shape: (batch_size, sequence_length, 1)\", attention_weights.shape)"
      ],
      "metadata": {
        "colab": {
          "base_uri": "https://localhost:8080/"
        },
        "id": "-lHKJupXxkb-",
        "outputId": "ec74d5c6-271e-4308-8c05-45fa827b8b10"
      },
      "execution_count": 16,
      "outputs": [
        {
          "output_type": "stream",
          "name": "stdout",
          "text": [
            "Attention result shape: (batch size, units) (64, 1024)\n",
            "Attention weights shape: (batch_size, sequence_length, 1) (64, 16, 1)\n"
          ]
        }
      ]
    },
    {
      "cell_type": "code",
      "source": [
        "class Decoder(tf.keras.Model):\n",
        "  def __init__(self, vocab_size, embedding_dim, dec_units, batch_sz):\n",
        "    super(Decoder, self).__init__()\n",
        "    self.batch_sz = batch_sz\n",
        "    self.dec_units = dec_units\n",
        "    self.embedding = tf.keras.layers.Embedding(vocab_size, embedding_dim)\n",
        "    self.gru = tf.keras.layers.GRU(self.dec_units,\n",
        "                                   return_sequences=True,\n",
        "                                   return_state=True,\n",
        "                                   recurrent_initializer='glorot_uniform')\n",
        "    self.fc = tf.keras.layers.Dense(vocab_size)\n",
        "\n",
        "    # used for attention\n",
        "    self.attention = BahdanauAttention(self.dec_units)\n",
        "\n",
        "  def call(self, x, hidden, enc_output):\n",
        "    # x == (batch_size, 1)\n",
        "    # hidden == (batch_size, hidden_size)\n",
        "    # enc_output shape == (batch_size, max_length, hidden_size)\n",
        "\n",
        "    context_vector, attention_weights = self.attention(hidden, enc_output)\n",
        "    # context_vector == (batch_size, hidden_size)\n",
        "    # attention_weights == (batch_size, max_length, 1)\n",
        "\n",
        "    x = self.embedding(x) # x == (batch_size, 1, embedding_dim)\n",
        "\n",
        "    # tf.expand_dims(context_vector, 1) == (batch_size, 1, hidden_size)\n",
        "    # tf.concat([tf.expand_dims(context_vector, 1), x], axis=-1) == (batch_size, 1, embedding_dim+hidden_size)\n",
        "    x = tf.concat([tf.expand_dims(context_vector, 1), x], axis=-1)\n",
        "\n",
        "    # passing the concatenated vector to the GRU\n",
        "    # output == (batch_size, 1, hidden_size)\n",
        "    # state == (batch_size, hidden_size)\n",
        "    output, state = self.gru(x)\n",
        "\n",
        "    \n",
        "    output = tf.reshape(output, (-1, output.shape[2])) # output  == (batch_size * 1, hidden_size)\n",
        "\n",
        "    x = self.fc(output) # x == (batch_size, vocab)\n",
        "\n",
        "    return x, state, attention_weights"
      ],
      "metadata": {
        "id": "-pR6i0lbxoJt"
      },
      "execution_count": 17,
      "outputs": []
    },
    {
      "cell_type": "code",
      "source": [
        "decoder = Decoder(vocab_tar_size, embedding_dim, units, BATCH_SIZE)\n",
        "\n",
        "sample_decoder_output, _, _ = decoder(tf.random.uniform((BATCH_SIZE, 1)),\n",
        "                                      sample_hidden, sample_output)\n",
        "\n",
        "print('Decoder output shape: (batch_size, vocab size)', sample_decoder_output.shape)"
      ],
      "metadata": {
        "colab": {
          "base_uri": "https://localhost:8080/"
        },
        "id": "fQ9fkJhFxthU",
        "outputId": "fb3b6302-ccb8-401d-b631-e3658e832df8"
      },
      "execution_count": 18,
      "outputs": [
        {
          "output_type": "stream",
          "name": "stdout",
          "text": [
            "Decoder output shape: (batch_size, vocab size) (64, 4935)\n"
          ]
        }
      ]
    },
    {
      "cell_type": "code",
      "source": [
        "optimizer = tf.keras.optimizers.Adam()\n",
        "loss_object = tf.keras.losses.SparseCategoricalCrossentropy(from_logits=True,\n",
        "                                                            reduction='none')\n",
        "\n",
        "\n",
        "def loss_function(real, pred):\n",
        "  mask = tf.math.logical_not(tf.math.equal(real, 0))\n",
        "  loss_ = loss_object(real, pred)\n",
        "\n",
        "  mask = tf.cast(mask, dtype=loss_.dtype)\n",
        "  loss_ *= mask\n",
        "\n",
        "  return tf.reduce_mean(loss_)"
      ],
      "metadata": {
        "id": "-AOuFhcKxwNo"
      },
      "execution_count": 19,
      "outputs": []
    },
    {
      "cell_type": "code",
      "source": [
        "@tf.function\n",
        "def train_step(inp, targ, enc_hidden):\n",
        "  loss = 0\n",
        "\n",
        "  with tf.GradientTape() as tape:\n",
        "    enc_output, enc_hidden = encoder(inp, enc_hidden)\n",
        "\n",
        "    dec_hidden = enc_hidden\n",
        "\n",
        "    dec_input = tf.expand_dims([targ_lang.word_index['<start>']] * BATCH_SIZE, 1)\n",
        "\n",
        "    # Teacher forcing - feeding the target as the next input\n",
        "    for t in range(1, targ.shape[1]):\n",
        "      # passing enc_output to the decoder\n",
        "      predictions, dec_hidden, _ = decoder(dec_input, dec_hidden, enc_output)\n",
        "\n",
        "      loss += loss_function(targ[:, t], predictions)\n",
        "\n",
        "      # using teacher forcing\n",
        "      dec_input = tf.expand_dims(targ[:, t], 1)\n",
        "\n",
        "  batch_loss = (loss / int(targ.shape[1]))\n",
        "\n",
        "  variables = encoder.trainable_variables + decoder.trainable_variables\n",
        "\n",
        "  gradients = tape.gradient(loss, variables)\n",
        "\n",
        "  optimizer.apply_gradients(zip(gradients, variables))\n",
        "\n",
        "  return batch_loss"
      ],
      "metadata": {
        "id": "7qulvZp6x0RH"
      },
      "execution_count": 20,
      "outputs": []
    },
    {
      "cell_type": "code",
      "source": [
        "EPOCHS = 10\n",
        "\n",
        "for epoch in range(EPOCHS):\n",
        "  start = time.time()\n",
        "\n",
        "  enc_hidden = encoder.initialize_hidden_state()\n",
        "  total_loss = 0\n",
        "\n",
        "  for (batch, (inp, targ)) in enumerate(dataset.take(steps_per_epoch)):\n",
        "    batch_loss = train_step(inp, targ, enc_hidden)\n",
        "    total_loss += batch_loss\n",
        "\n",
        "    if batch % 100 == 0:\n",
        "      print('Epoch {} Batch {} Loss {:.4f}'.format(epoch + 1,\n",
        "                                                   batch,\n",
        "                                                   batch_loss.numpy()))\n",
        "      \n",
        "  print('Epoch {} Loss {:.4f}'.format(epoch + 1,\n",
        "                                      total_loss / steps_per_epoch))\n",
        "  print('Time taken for 1 epoch {} sec\\n'.format(time.time() - start))"
      ],
      "metadata": {
        "colab": {
          "base_uri": "https://localhost:8080/",
          "height": 1000
        },
        "id": "1Y1JfMOwyJ9m",
        "outputId": "611beca0-afac-4b35-f02c-bd5436260147"
      },
      "execution_count": 21,
      "outputs": [
        {
          "output_type": "stream",
          "name": "stdout",
          "text": [
            "Epoch 1 Batch 0 Loss 4.4336\n",
            "Epoch 1 Batch 100 Loss 2.0694\n",
            "Epoch 1 Batch 200 Loss 1.7620\n",
            "Epoch 1 Batch 300 Loss 1.6472\n",
            "Epoch 1 Loss 2.0180\n",
            "Time taken for 1 epoch 1521.9355187416077 sec\n",
            "\n",
            "Epoch 2 Batch 0 Loss 1.5174\n",
            "Epoch 2 Batch 100 Loss 1.5189\n",
            "Epoch 2 Batch 200 Loss 1.3357\n",
            "Epoch 2 Batch 300 Loss 1.2212\n",
            "Epoch 2 Loss 1.3716\n",
            "Time taken for 1 epoch 1461.9285283088684 sec\n",
            "\n",
            "Epoch 3 Batch 0 Loss 1.0207\n",
            "Epoch 3 Batch 100 Loss 1.0671\n",
            "Epoch 3 Batch 200 Loss 0.9667\n",
            "Epoch 3 Batch 300 Loss 0.8822\n",
            "Epoch 3 Loss 0.9540\n",
            "Time taken for 1 epoch 1454.7358787059784 sec\n",
            "\n",
            "Epoch 4 Batch 0 Loss 0.7086\n",
            "Epoch 4 Batch 100 Loss 0.7323\n",
            "Epoch 4 Batch 200 Loss 0.6572\n",
            "Epoch 4 Batch 300 Loss 0.6179\n",
            "Epoch 4 Loss 0.6383\n",
            "Time taken for 1 epoch 1438.5500259399414 sec\n",
            "\n",
            "Epoch 5 Batch 0 Loss 0.4772\n",
            "Epoch 5 Batch 100 Loss 0.4837\n",
            "Epoch 5 Batch 200 Loss 0.4597\n",
            "Epoch 5 Batch 300 Loss 0.4983\n",
            "Epoch 5 Loss 0.4266\n",
            "Time taken for 1 epoch 1430.166311264038 sec\n",
            "\n",
            "Epoch 6 Batch 0 Loss 0.2928\n",
            "Epoch 6 Batch 100 Loss 0.3116\n",
            "Epoch 6 Batch 200 Loss 0.2717\n",
            "Epoch 6 Batch 300 Loss 0.2780\n",
            "Epoch 6 Loss 0.2875\n",
            "Time taken for 1 epoch 1460.8030805587769 sec\n",
            "\n",
            "Epoch 7 Batch 0 Loss 0.1641\n",
            "Epoch 7 Batch 100 Loss 0.1903\n",
            "Epoch 7 Batch 200 Loss 0.1943\n",
            "Epoch 7 Batch 300 Loss 0.1900\n"
          ]
        },
        {
          "output_type": "error",
          "ename": "KeyboardInterrupt",
          "evalue": "ignored",
          "traceback": [
            "\u001b[0;31m---------------------------------------------------------------------------\u001b[0m",
            "\u001b[0;31mKeyboardInterrupt\u001b[0m                         Traceback (most recent call last)",
            "\u001b[0;32m<ipython-input-21-890bc8b6d86a>\u001b[0m in \u001b[0;36m<module>\u001b[0;34m()\u001b[0m\n\u001b[1;32m      8\u001b[0m \u001b[0;34m\u001b[0m\u001b[0m\n\u001b[1;32m      9\u001b[0m   \u001b[0;32mfor\u001b[0m \u001b[0;34m(\u001b[0m\u001b[0mbatch\u001b[0m\u001b[0;34m,\u001b[0m \u001b[0;34m(\u001b[0m\u001b[0minp\u001b[0m\u001b[0;34m,\u001b[0m \u001b[0mtarg\u001b[0m\u001b[0;34m)\u001b[0m\u001b[0;34m)\u001b[0m \u001b[0;32min\u001b[0m \u001b[0menumerate\u001b[0m\u001b[0;34m(\u001b[0m\u001b[0mdataset\u001b[0m\u001b[0;34m.\u001b[0m\u001b[0mtake\u001b[0m\u001b[0;34m(\u001b[0m\u001b[0msteps_per_epoch\u001b[0m\u001b[0;34m)\u001b[0m\u001b[0;34m)\u001b[0m\u001b[0;34m:\u001b[0m\u001b[0;34m\u001b[0m\u001b[0;34m\u001b[0m\u001b[0m\n\u001b[0;32m---> 10\u001b[0;31m     \u001b[0mbatch_loss\u001b[0m \u001b[0;34m=\u001b[0m \u001b[0mtrain_step\u001b[0m\u001b[0;34m(\u001b[0m\u001b[0minp\u001b[0m\u001b[0;34m,\u001b[0m \u001b[0mtarg\u001b[0m\u001b[0;34m,\u001b[0m \u001b[0menc_hidden\u001b[0m\u001b[0;34m)\u001b[0m\u001b[0;34m\u001b[0m\u001b[0;34m\u001b[0m\u001b[0m\n\u001b[0m\u001b[1;32m     11\u001b[0m     \u001b[0mtotal_loss\u001b[0m \u001b[0;34m+=\u001b[0m \u001b[0mbatch_loss\u001b[0m\u001b[0;34m\u001b[0m\u001b[0;34m\u001b[0m\u001b[0m\n\u001b[1;32m     12\u001b[0m \u001b[0;34m\u001b[0m\u001b[0m\n",
            "\u001b[0;32m/usr/local/lib/python3.7/dist-packages/tensorflow/python/util/traceback_utils.py\u001b[0m in \u001b[0;36merror_handler\u001b[0;34m(*args, **kwargs)\u001b[0m\n\u001b[1;32m    148\u001b[0m     \u001b[0mfiltered_tb\u001b[0m \u001b[0;34m=\u001b[0m \u001b[0;32mNone\u001b[0m\u001b[0;34m\u001b[0m\u001b[0;34m\u001b[0m\u001b[0m\n\u001b[1;32m    149\u001b[0m     \u001b[0;32mtry\u001b[0m\u001b[0;34m:\u001b[0m\u001b[0;34m\u001b[0m\u001b[0;34m\u001b[0m\u001b[0m\n\u001b[0;32m--> 150\u001b[0;31m       \u001b[0;32mreturn\u001b[0m \u001b[0mfn\u001b[0m\u001b[0;34m(\u001b[0m\u001b[0;34m*\u001b[0m\u001b[0margs\u001b[0m\u001b[0;34m,\u001b[0m \u001b[0;34m**\u001b[0m\u001b[0mkwargs\u001b[0m\u001b[0;34m)\u001b[0m\u001b[0;34m\u001b[0m\u001b[0;34m\u001b[0m\u001b[0m\n\u001b[0m\u001b[1;32m    151\u001b[0m     \u001b[0;32mexcept\u001b[0m \u001b[0mException\u001b[0m \u001b[0;32mas\u001b[0m \u001b[0me\u001b[0m\u001b[0;34m:\u001b[0m\u001b[0;34m\u001b[0m\u001b[0;34m\u001b[0m\u001b[0m\n\u001b[1;32m    152\u001b[0m       \u001b[0mfiltered_tb\u001b[0m \u001b[0;34m=\u001b[0m \u001b[0m_process_traceback_frames\u001b[0m\u001b[0;34m(\u001b[0m\u001b[0me\u001b[0m\u001b[0;34m.\u001b[0m\u001b[0m__traceback__\u001b[0m\u001b[0;34m)\u001b[0m\u001b[0;34m\u001b[0m\u001b[0;34m\u001b[0m\u001b[0m\n",
            "\u001b[0;32m/usr/local/lib/python3.7/dist-packages/tensorflow/python/eager/def_function.py\u001b[0m in \u001b[0;36m__call__\u001b[0;34m(self, *args, **kwds)\u001b[0m\n\u001b[1;32m    908\u001b[0m \u001b[0;34m\u001b[0m\u001b[0m\n\u001b[1;32m    909\u001b[0m       \u001b[0;32mwith\u001b[0m \u001b[0mOptionalXlaContext\u001b[0m\u001b[0;34m(\u001b[0m\u001b[0mself\u001b[0m\u001b[0;34m.\u001b[0m\u001b[0m_jit_compile\u001b[0m\u001b[0;34m)\u001b[0m\u001b[0;34m:\u001b[0m\u001b[0;34m\u001b[0m\u001b[0;34m\u001b[0m\u001b[0m\n\u001b[0;32m--> 910\u001b[0;31m         \u001b[0mresult\u001b[0m \u001b[0;34m=\u001b[0m \u001b[0mself\u001b[0m\u001b[0;34m.\u001b[0m\u001b[0m_call\u001b[0m\u001b[0;34m(\u001b[0m\u001b[0;34m*\u001b[0m\u001b[0margs\u001b[0m\u001b[0;34m,\u001b[0m \u001b[0;34m**\u001b[0m\u001b[0mkwds\u001b[0m\u001b[0;34m)\u001b[0m\u001b[0;34m\u001b[0m\u001b[0;34m\u001b[0m\u001b[0m\n\u001b[0m\u001b[1;32m    911\u001b[0m \u001b[0;34m\u001b[0m\u001b[0m\n\u001b[1;32m    912\u001b[0m       \u001b[0mnew_tracing_count\u001b[0m \u001b[0;34m=\u001b[0m \u001b[0mself\u001b[0m\u001b[0;34m.\u001b[0m\u001b[0mexperimental_get_tracing_count\u001b[0m\u001b[0;34m(\u001b[0m\u001b[0;34m)\u001b[0m\u001b[0;34m\u001b[0m\u001b[0;34m\u001b[0m\u001b[0m\n",
            "\u001b[0;32m/usr/local/lib/python3.7/dist-packages/tensorflow/python/eager/def_function.py\u001b[0m in \u001b[0;36m_call\u001b[0;34m(self, *args, **kwds)\u001b[0m\n\u001b[1;32m    940\u001b[0m       \u001b[0;31m# In this case we have created variables on the first call, so we run the\u001b[0m\u001b[0;34m\u001b[0m\u001b[0;34m\u001b[0m\u001b[0;34m\u001b[0m\u001b[0m\n\u001b[1;32m    941\u001b[0m       \u001b[0;31m# defunned version which is guaranteed to never create variables.\u001b[0m\u001b[0;34m\u001b[0m\u001b[0;34m\u001b[0m\u001b[0;34m\u001b[0m\u001b[0m\n\u001b[0;32m--> 942\u001b[0;31m       \u001b[0;32mreturn\u001b[0m \u001b[0mself\u001b[0m\u001b[0;34m.\u001b[0m\u001b[0m_stateless_fn\u001b[0m\u001b[0;34m(\u001b[0m\u001b[0;34m*\u001b[0m\u001b[0margs\u001b[0m\u001b[0;34m,\u001b[0m \u001b[0;34m**\u001b[0m\u001b[0mkwds\u001b[0m\u001b[0;34m)\u001b[0m  \u001b[0;31m# pylint: disable=not-callable\u001b[0m\u001b[0;34m\u001b[0m\u001b[0;34m\u001b[0m\u001b[0m\n\u001b[0m\u001b[1;32m    943\u001b[0m     \u001b[0;32melif\u001b[0m \u001b[0mself\u001b[0m\u001b[0;34m.\u001b[0m\u001b[0m_stateful_fn\u001b[0m \u001b[0;32mis\u001b[0m \u001b[0;32mnot\u001b[0m \u001b[0;32mNone\u001b[0m\u001b[0;34m:\u001b[0m\u001b[0;34m\u001b[0m\u001b[0;34m\u001b[0m\u001b[0m\n\u001b[1;32m    944\u001b[0m       \u001b[0;31m# Release the lock early so that multiple threads can perform the call\u001b[0m\u001b[0;34m\u001b[0m\u001b[0;34m\u001b[0m\u001b[0;34m\u001b[0m\u001b[0m\n",
            "\u001b[0;32m/usr/local/lib/python3.7/dist-packages/tensorflow/python/eager/function.py\u001b[0m in \u001b[0;36m__call__\u001b[0;34m(self, *args, **kwargs)\u001b[0m\n\u001b[1;32m   3129\u001b[0m        filtered_flat_args) = self._maybe_define_function(args, kwargs)\n\u001b[1;32m   3130\u001b[0m     return graph_function._call_flat(\n\u001b[0;32m-> 3131\u001b[0;31m         filtered_flat_args, captured_inputs=graph_function.captured_inputs)  # pylint: disable=protected-access\n\u001b[0m\u001b[1;32m   3132\u001b[0m \u001b[0;34m\u001b[0m\u001b[0m\n\u001b[1;32m   3133\u001b[0m   \u001b[0;34m@\u001b[0m\u001b[0mproperty\u001b[0m\u001b[0;34m\u001b[0m\u001b[0;34m\u001b[0m\u001b[0m\n",
            "\u001b[0;32m/usr/local/lib/python3.7/dist-packages/tensorflow/python/eager/function.py\u001b[0m in \u001b[0;36m_call_flat\u001b[0;34m(self, args, captured_inputs, cancellation_manager)\u001b[0m\n\u001b[1;32m   1958\u001b[0m       \u001b[0;31m# No tape is watching; skip to running the function.\u001b[0m\u001b[0;34m\u001b[0m\u001b[0;34m\u001b[0m\u001b[0;34m\u001b[0m\u001b[0m\n\u001b[1;32m   1959\u001b[0m       return self._build_call_outputs(self._inference_function.call(\n\u001b[0;32m-> 1960\u001b[0;31m           ctx, args, cancellation_manager=cancellation_manager))\n\u001b[0m\u001b[1;32m   1961\u001b[0m     forward_backward = self._select_forward_and_backward_functions(\n\u001b[1;32m   1962\u001b[0m         \u001b[0margs\u001b[0m\u001b[0;34m,\u001b[0m\u001b[0;34m\u001b[0m\u001b[0;34m\u001b[0m\u001b[0m\n",
            "\u001b[0;32m/usr/local/lib/python3.7/dist-packages/tensorflow/python/eager/function.py\u001b[0m in \u001b[0;36mcall\u001b[0;34m(self, ctx, args, cancellation_manager)\u001b[0m\n\u001b[1;32m    601\u001b[0m               \u001b[0minputs\u001b[0m\u001b[0;34m=\u001b[0m\u001b[0margs\u001b[0m\u001b[0;34m,\u001b[0m\u001b[0;34m\u001b[0m\u001b[0;34m\u001b[0m\u001b[0m\n\u001b[1;32m    602\u001b[0m               \u001b[0mattrs\u001b[0m\u001b[0;34m=\u001b[0m\u001b[0mattrs\u001b[0m\u001b[0;34m,\u001b[0m\u001b[0;34m\u001b[0m\u001b[0;34m\u001b[0m\u001b[0m\n\u001b[0;32m--> 603\u001b[0;31m               ctx=ctx)\n\u001b[0m\u001b[1;32m    604\u001b[0m         \u001b[0;32melse\u001b[0m\u001b[0;34m:\u001b[0m\u001b[0;34m\u001b[0m\u001b[0;34m\u001b[0m\u001b[0m\n\u001b[1;32m    605\u001b[0m           outputs = execute.execute_with_cancellation(\n",
            "\u001b[0;32m/usr/local/lib/python3.7/dist-packages/tensorflow/python/eager/execute.py\u001b[0m in \u001b[0;36mquick_execute\u001b[0;34m(op_name, num_outputs, inputs, attrs, ctx, name)\u001b[0m\n\u001b[1;32m     57\u001b[0m     \u001b[0mctx\u001b[0m\u001b[0;34m.\u001b[0m\u001b[0mensure_initialized\u001b[0m\u001b[0;34m(\u001b[0m\u001b[0;34m)\u001b[0m\u001b[0;34m\u001b[0m\u001b[0;34m\u001b[0m\u001b[0m\n\u001b[1;32m     58\u001b[0m     tensors = pywrap_tfe.TFE_Py_Execute(ctx._handle, device_name, op_name,\n\u001b[0;32m---> 59\u001b[0;31m                                         inputs, attrs, num_outputs)\n\u001b[0m\u001b[1;32m     60\u001b[0m   \u001b[0;32mexcept\u001b[0m \u001b[0mcore\u001b[0m\u001b[0;34m.\u001b[0m\u001b[0m_NotOkStatusException\u001b[0m \u001b[0;32mas\u001b[0m \u001b[0me\u001b[0m\u001b[0;34m:\u001b[0m\u001b[0;34m\u001b[0m\u001b[0;34m\u001b[0m\u001b[0m\n\u001b[1;32m     61\u001b[0m     \u001b[0;32mif\u001b[0m \u001b[0mname\u001b[0m \u001b[0;32mis\u001b[0m \u001b[0;32mnot\u001b[0m \u001b[0;32mNone\u001b[0m\u001b[0;34m:\u001b[0m\u001b[0;34m\u001b[0m\u001b[0;34m\u001b[0m\u001b[0m\n",
            "\u001b[0;31mKeyboardInterrupt\u001b[0m: "
          ]
        }
      ]
    },
    {
      "cell_type": "code",
      "source": [
        "def evaluate(sentence):\n",
        "  attention_plot = np.zeros((max_length_targ, max_length_inp))\n",
        "\n",
        "  sentence = preprocess_sentence(sentence)\n",
        "\n",
        "  inputs = [inp_lang.word_index[i] for i in sentence.split(' ')]\n",
        "  inputs = tf.keras.preprocessing.sequence.pad_sequences([inputs],\n",
        "                                                         maxlen=max_length_inp,\n",
        "                                                         padding='post')\n",
        "  inputs = tf.convert_to_tensor(inputs)\n",
        "\n",
        "  result = ''\n",
        "\n",
        "  hidden = [tf.zeros((1, units))]\n",
        "  enc_out, enc_hidden = encoder(inputs, hidden)\n",
        "\n",
        "  dec_hidden = enc_hidden\n",
        "  dec_input = tf.expand_dims([targ_lang.word_index['<start>']], 0)\n",
        "\n",
        "  for t in range(max_length_targ):\n",
        "    predictions, dec_hidden, attention_weights = decoder(dec_input,\n",
        "                                                         dec_hidden,\n",
        "                                                         enc_out)\n",
        "\n",
        "    # storing the attention weights to plot later on\n",
        "    attention_weights = tf.reshape(attention_weights, (-1, ))\n",
        "    attention_plot[t] = attention_weights.numpy()\n",
        "\n",
        "    predicted_id = tf.argmax(predictions[0]).numpy()\n",
        "\n",
        "    result += targ_lang.index_word[predicted_id] + ' '\n",
        "\n",
        "    if targ_lang.index_word[predicted_id] == '<end>':\n",
        "      return result, sentence, attention_plot\n",
        "\n",
        "    # the predicted ID is fed back into the model\n",
        "    dec_input = tf.expand_dims([predicted_id], 0)\n",
        "\n",
        "  return result, sentence, attention_plot"
      ],
      "metadata": {
        "id": "4aANExmoyOq9"
      },
      "execution_count": 22,
      "outputs": []
    },
    {
      "cell_type": "code",
      "source": [
        "# function for plotting the attention weights\n",
        "def plot_attention(attention, sentence, predicted_sentence):\n",
        "  fig = plt.figure(figsize=(10,10))\n",
        "  ax = fig.add_subplot(1, 1, 1)\n",
        "  ax.matshow(attention, cmap='viridis')\n",
        "\n",
        "  fontdict = {'fontsize': 14}\n",
        "\n",
        "  ax.set_xticklabels([''] + sentence, fontdict=fontdict, rotation=90)\n",
        "  ax.set_yticklabels([''] + predicted_sentence, fontdict=fontdict)\n",
        "\n",
        "  ax.xaxis.set_major_locator(ticker.MultipleLocator(1))\n",
        "  ax.yaxis.set_major_locator(ticker.MultipleLocator(1))\n",
        "\n",
        "  plt.show()"
      ],
      "metadata": {
        "id": "0uC0U8I2yRdM"
      },
      "execution_count": 23,
      "outputs": []
    },
    {
      "cell_type": "code",
      "source": [
        "def translate(sentence):\n",
        "  result, sentence, attention_plot = evaluate(sentence)\n",
        "\n",
        "  print('Input: %s' % (sentence))\n",
        "  print('Predicted translation: {}'.format(result))\n",
        "\n",
        "  attention_plot = attention_plot[:len(result.split(' ')), :len(sentence.split(' '))]\n",
        "  plot_attention(attention_plot, sentence.split(' '), result.split(' '))"
      ],
      "metadata": {
        "id": "U4hQFFzKyTU9"
      },
      "execution_count": 24,
      "outputs": []
    },
    {
      "cell_type": "code",
      "source": [
        "translate(u'hace mucho frio aqui.')\n"
      ],
      "metadata": {
        "colab": {
          "base_uri": "https://localhost:8080/",
          "height": 676
        },
        "id": "PFP5CkQoyZIC",
        "outputId": "0e1128da-9fa6-4e69-86c5-2dcec6051bc4"
      },
      "execution_count": 25,
      "outputs": [
        {
          "output_type": "stream",
          "name": "stdout",
          "text": [
            "Input: <start> hace mucho frio aqui . <end>\n",
            "Predicted translation: it s very cold here . <end> \n"
          ]
        },
        {
          "output_type": "display_data",
          "data": {
            "image/png": "[encoded data removed]",
            "text/plain": [
              "<Figure size 720x720 with 1 Axes>"
            ]
          },
          "metadata": {
            "needs_background": "light"
          }
        }
      ]
    },
    {
      "cell_type": "code",
      "source": [
        "translate(u'esta es mi vida.')"
      ],
      "metadata": {
        "colab": {
          "base_uri": "https://localhost:8080/",
          "height": 676
        },
        "id": "Pf5DoePbycfr",
        "outputId": "4f69898d-a38c-457a-af8d-75940f8d4e0f"
      },
      "execution_count": 26,
      "outputs": [
        {
          "output_type": "stream",
          "name": "stdout",
          "text": [
            "Input: <start> esta es mi vida . <end>\n",
            "Predicted translation: this is my life . <end> \n"
          ]
        },
        {
          "output_type": "display_data",
          "data": {
            "image/png": "[encoded data removed]",
            "text/plain": [
              "<Figure size 720x720 with 1 Axes>"
            ]
          },
          "metadata": {
            "needs_background": "light"
          }
        }
      ]
    }
  ]
}